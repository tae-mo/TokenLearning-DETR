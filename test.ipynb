{
 "cells": [
  {
   "cell_type": "code",
   "execution_count": 9,
   "metadata": {},
   "outputs": [
    {
     "name": "stderr",
     "output_type": "stream",
     "text": [
      "usage: DETR training and evaluation script [-h] [--lr LR]\n",
      "                                           [--lr_backbone LR_BACKBONE]\n",
      "                                           [--batch_size BATCH_SIZE]\n",
      "                                           [--weight_decay WEIGHT_DECAY]\n",
      "                                           [--epochs EPOCHS]\n",
      "                                           [--lr_drop LR_DROP]\n",
      "                                           [--clip_max_norm CLIP_MAX_NORM]\n",
      "                                           [--frozen_weights FROZEN_WEIGHTS]\n",
      "                                           [--backbone BACKBONE] [--dilation]\n",
      "                                           [--position_embedding {sine,learned}]\n",
      "                                           [--enc_layers ENC_LAYERS]\n",
      "                                           [--dec_layers DEC_LAYERS]\n",
      "                                           [--dim_feedforward DIM_FEEDFORWARD]\n",
      "                                           [--hidden_dim HIDDEN_DIM]\n",
      "                                           [--dropout DROPOUT]\n",
      "                                           [--nheads NHEADS]\n",
      "                                           [--num_queries NUM_QUERIES]\n",
      "                                           [--pre_norm] [--masks]\n",
      "                                           [--no_aux_loss]\n",
      "                                           [--set_cost_class SET_COST_CLASS]\n",
      "                                           [--set_cost_bbox SET_COST_BBOX]\n",
      "                                           [--set_cost_giou SET_COST_GIOU]\n",
      "                                           [--mask_loss_coef MASK_LOSS_COEF]\n",
      "                                           [--dice_loss_coef DICE_LOSS_COEF]\n",
      "                                           [--bbox_loss_coef BBOX_LOSS_COEF]\n",
      "                                           [--giou_loss_coef GIOU_LOSS_COEF]\n",
      "                                           [--eos_coef EOS_COEF]\n",
      "                                           [--dataset_file DATASET_FILE]\n",
      "                                           [--coco_path COCO_PATH]\n",
      "                                           [--coco_panoptic_path COCO_PANOPTIC_PATH]\n",
      "                                           [--remove_difficult]\n",
      "                                           [--output_dir OUTPUT_DIR]\n",
      "                                           [--device DEVICE] [--seed SEED]\n",
      "                                           [--resume RESUME] [--start_epoch N]\n",
      "                                           [--eval]\n",
      "                                           [--num_workers NUM_WORKERS]\n",
      "                                           [--world_size WORLD_SIZE]\n",
      "                                           [--dist_url DIST_URL]\n",
      "DETR training and evaluation script: error: unrecognized arguments: --ip=127.0.0.1 --stdin=9003 --control=9001 --hb=9000 --Session.signature_scheme=\"hmac-sha256\" --Session.key=b\"b2721653-1ff4-4120-a192-ec8d8f92b03b\" --shell=9002 --transport=\"tcp\" --iopub=9004\n"
     ]
    },
    {
     "ename": "SystemExit",
     "evalue": "2",
     "output_type": "error",
     "traceback": [
      "An exception has occurred, use %tb to see the full traceback.\n",
      "\u001b[0;31mSystemExit\u001b[0m\u001b[0;31m:\u001b[0m 2\n"
     ]
    },
    {
     "name": "stderr",
     "output_type": "stream",
     "text": [
      "/home/taejune/.conda/envs/detr/lib/python3.8/site-packages/IPython/core/interactiveshell.py:3386: UserWarning: To exit: use 'exit', 'quit', or Ctrl-D.\n",
      "  warn(\"To exit: use 'exit', 'quit', or Ctrl-D.\", stacklevel=1)\n"
     ]
    }
   ],
   "source": [
    "# Copyright (c) Facebook, Inc. and its affiliates. All Rights Reserved\n",
    "import argparse\n",
    "import datetime\n",
    "import json\n",
    "import random\n",
    "import time\n",
    "from pathlib import Path\n",
    "\n",
    "import numpy as np\n",
    "import torch\n",
    "from torch.utils.data import DataLoader, DistributedSampler\n",
    "\n",
    "import datasets\n",
    "import util.misc as utils\n",
    "\n",
    "from datasets import build_dataset, get_coco_api_from_dataset\n",
    "from engine import evaluate, train_one_epoch\n",
    "from models import build_model\n",
    "\n",
    "def main(args):\n",
    "    utils.init_distributed_mode(args)\n",
    "    print(\"git:\\n  {}\\n\".format(utils.get_sha()))\n",
    "\n",
    "    if args.frozen_weights is not None:\n",
    "        assert args.masks, \"Frozen training is meant for segmentation only\"\n",
    "    print(args)\n",
    "\n",
    "    device = torch.device(args.device)\n",
    "\n",
    "    # fix the seed for reproducibility\n",
    "    seed = args.seed + utils.get_rank()\n",
    "    torch.manual_seed(seed)\n",
    "    np.random.seed(seed)\n",
    "    random.seed(seed)\n",
    "\n",
    "    model, criterion, postprocessors = build_model(args)\n",
    "    model(torch.randn(1, 3, 512, 512))\n",
    "\n",
    "main()\n"
   ]
  },
  {
   "cell_type": "code",
   "execution_count": null,
   "metadata": {},
   "outputs": [],
   "source": []
  }
 ],
 "metadata": {
  "kernelspec": {
   "display_name": "Python 3.8.13 ('detr')",
   "language": "python",
   "name": "python3"
  },
  "language_info": {
   "codemirror_mode": {
    "name": "ipython",
    "version": 3
   },
   "file_extension": ".py",
   "mimetype": "text/x-python",
   "name": "python",
   "nbconvert_exporter": "python",
   "pygments_lexer": "ipython3",
   "version": "3.8.13"
  },
  "orig_nbformat": 4,
  "vscode": {
   "interpreter": {
    "hash": "3f96958665f0a3f7a76d2c33bc132aa917cb74ec58feb074e4dd044dde7a2645"
   }
  }
 },
 "nbformat": 4,
 "nbformat_minor": 2
}
